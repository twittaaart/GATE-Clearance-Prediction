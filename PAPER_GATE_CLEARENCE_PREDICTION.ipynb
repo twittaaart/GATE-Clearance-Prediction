{
  "cells": [
    {
      "cell_type": "markdown",
      "metadata": {
        "id": "view-in-github",
        "colab_type": "text"
      },
      "source": [
        "<a href=\"https://colab.research.google.com/github/twittaaart/GATE-Clearance-Prediction/blob/main/PAPER_GATE_CLEARENCE_PREDICTION.ipynb\" target=\"_parent\"><img src=\"https://colab.research.google.com/assets/colab-badge.svg\" alt=\"Open In Colab\"/></a>"
      ]
    },
    {
      "cell_type": "markdown",
      "metadata": {
        "id": "_1dDZGGAiA1r"
      },
      "source": [
        "### Project Title: Fresh Graduate Candidate's Gate clearance prediction by advanced ML approach"
      ]
    },
    {
      "cell_type": "markdown",
      "metadata": {
        "id": "N3OM6dGcmf1u"
      },
      "source": [
        "### ***IMPORT LIBRARIES AND PACKAGES***"
      ]
    },
    {
      "cell_type": "code",
      "execution_count": null,
      "metadata": {
        "id": "uxoLmsyvgJUP"
      },
      "outputs": [],
      "source": [
        "import pandas as pd\n",
        "import numpy as np\n",
        "import matplotlib.pyplot as plt\n",
        "from sklearn.linear_model import LinearRegression\n",
        "from sklearn.tree import DecisionTreeRegressor\n",
        "from sklearn.preprocessing import StandardScaler\n",
        "from sklearn.metrics import precision_score, recall_score, f1_score, accuracy_score"
      ]
    },
    {
      "cell_type": "markdown",
      "metadata": {
        "id": "pR04Vw-liJG9"
      },
      "source": [
        "### **READ THE CSV DATASET**"
      ]
    },
    {
      "cell_type": "code",
      "execution_count": 10,
      "metadata": {
        "id": "Vond4A4GgXzp",
        "colab": {
          "base_uri": "https://localhost:8080/",
          "height": 287
        },
        "outputId": "d758ce85-db1e-41ee-d278-cc926c9e80f7"
      },
      "outputs": [
        {
          "output_type": "error",
          "ename": "FileNotFoundError",
          "evalue": "[Errno 2] No such file or directory: 'Final_Dataset.csv'",
          "traceback": [
            "\u001b[0;31m---------------------------------------------------------------------------\u001b[0m",
            "\u001b[0;31mFileNotFoundError\u001b[0m                         Traceback (most recent call last)",
            "\u001b[0;32m/tmp/ipython-input-10-1372934404.py\u001b[0m in \u001b[0;36m<cell line: 0>\u001b[0;34m()\u001b[0m\n\u001b[0;32m----> 1\u001b[0;31m \u001b[0mdataset\u001b[0m \u001b[0;34m=\u001b[0m \u001b[0mpd\u001b[0m\u001b[0;34m.\u001b[0m\u001b[0mread_csv\u001b[0m\u001b[0;34m(\u001b[0m\u001b[0;34m\"Final_Dataset.csv\"\u001b[0m\u001b[0;34m,\u001b[0m\u001b[0mheader\u001b[0m\u001b[0;34m=\u001b[0m\u001b[0;36m0\u001b[0m\u001b[0;34m)\u001b[0m\u001b[0;34m\u001b[0m\u001b[0;34m\u001b[0m\u001b[0m\n\u001b[0m",
            "\u001b[0;32m/usr/local/lib/python3.11/dist-packages/pandas/io/parsers/readers.py\u001b[0m in \u001b[0;36mread_csv\u001b[0;34m(filepath_or_buffer, sep, delimiter, header, names, index_col, usecols, dtype, engine, converters, true_values, false_values, skipinitialspace, skiprows, skipfooter, nrows, na_values, keep_default_na, na_filter, verbose, skip_blank_lines, parse_dates, infer_datetime_format, keep_date_col, date_parser, date_format, dayfirst, cache_dates, iterator, chunksize, compression, thousands, decimal, lineterminator, quotechar, quoting, doublequote, escapechar, comment, encoding, encoding_errors, dialect, on_bad_lines, delim_whitespace, low_memory, memory_map, float_precision, storage_options, dtype_backend)\u001b[0m\n\u001b[1;32m   1024\u001b[0m     \u001b[0mkwds\u001b[0m\u001b[0;34m.\u001b[0m\u001b[0mupdate\u001b[0m\u001b[0;34m(\u001b[0m\u001b[0mkwds_defaults\u001b[0m\u001b[0;34m)\u001b[0m\u001b[0;34m\u001b[0m\u001b[0;34m\u001b[0m\u001b[0m\n\u001b[1;32m   1025\u001b[0m \u001b[0;34m\u001b[0m\u001b[0m\n\u001b[0;32m-> 1026\u001b[0;31m     \u001b[0;32mreturn\u001b[0m \u001b[0m_read\u001b[0m\u001b[0;34m(\u001b[0m\u001b[0mfilepath_or_buffer\u001b[0m\u001b[0;34m,\u001b[0m \u001b[0mkwds\u001b[0m\u001b[0;34m)\u001b[0m\u001b[0;34m\u001b[0m\u001b[0;34m\u001b[0m\u001b[0m\n\u001b[0m\u001b[1;32m   1027\u001b[0m \u001b[0;34m\u001b[0m\u001b[0m\n\u001b[1;32m   1028\u001b[0m \u001b[0;34m\u001b[0m\u001b[0m\n",
            "\u001b[0;32m/usr/local/lib/python3.11/dist-packages/pandas/io/parsers/readers.py\u001b[0m in \u001b[0;36m_read\u001b[0;34m(filepath_or_buffer, kwds)\u001b[0m\n\u001b[1;32m    618\u001b[0m \u001b[0;34m\u001b[0m\u001b[0m\n\u001b[1;32m    619\u001b[0m     \u001b[0;31m# Create the parser.\u001b[0m\u001b[0;34m\u001b[0m\u001b[0;34m\u001b[0m\u001b[0m\n\u001b[0;32m--> 620\u001b[0;31m     \u001b[0mparser\u001b[0m \u001b[0;34m=\u001b[0m \u001b[0mTextFileReader\u001b[0m\u001b[0;34m(\u001b[0m\u001b[0mfilepath_or_buffer\u001b[0m\u001b[0;34m,\u001b[0m \u001b[0;34m**\u001b[0m\u001b[0mkwds\u001b[0m\u001b[0;34m)\u001b[0m\u001b[0;34m\u001b[0m\u001b[0;34m\u001b[0m\u001b[0m\n\u001b[0m\u001b[1;32m    621\u001b[0m \u001b[0;34m\u001b[0m\u001b[0m\n\u001b[1;32m    622\u001b[0m     \u001b[0;32mif\u001b[0m \u001b[0mchunksize\u001b[0m \u001b[0;32mor\u001b[0m \u001b[0miterator\u001b[0m\u001b[0;34m:\u001b[0m\u001b[0;34m\u001b[0m\u001b[0;34m\u001b[0m\u001b[0m\n",
            "\u001b[0;32m/usr/local/lib/python3.11/dist-packages/pandas/io/parsers/readers.py\u001b[0m in \u001b[0;36m__init__\u001b[0;34m(self, f, engine, **kwds)\u001b[0m\n\u001b[1;32m   1618\u001b[0m \u001b[0;34m\u001b[0m\u001b[0m\n\u001b[1;32m   1619\u001b[0m         \u001b[0mself\u001b[0m\u001b[0;34m.\u001b[0m\u001b[0mhandles\u001b[0m\u001b[0;34m:\u001b[0m \u001b[0mIOHandles\u001b[0m \u001b[0;34m|\u001b[0m \u001b[0;32mNone\u001b[0m \u001b[0;34m=\u001b[0m \u001b[0;32mNone\u001b[0m\u001b[0;34m\u001b[0m\u001b[0;34m\u001b[0m\u001b[0m\n\u001b[0;32m-> 1620\u001b[0;31m         \u001b[0mself\u001b[0m\u001b[0;34m.\u001b[0m\u001b[0m_engine\u001b[0m \u001b[0;34m=\u001b[0m \u001b[0mself\u001b[0m\u001b[0;34m.\u001b[0m\u001b[0m_make_engine\u001b[0m\u001b[0;34m(\u001b[0m\u001b[0mf\u001b[0m\u001b[0;34m,\u001b[0m \u001b[0mself\u001b[0m\u001b[0;34m.\u001b[0m\u001b[0mengine\u001b[0m\u001b[0;34m)\u001b[0m\u001b[0;34m\u001b[0m\u001b[0;34m\u001b[0m\u001b[0m\n\u001b[0m\u001b[1;32m   1621\u001b[0m \u001b[0;34m\u001b[0m\u001b[0m\n\u001b[1;32m   1622\u001b[0m     \u001b[0;32mdef\u001b[0m \u001b[0mclose\u001b[0m\u001b[0;34m(\u001b[0m\u001b[0mself\u001b[0m\u001b[0;34m)\u001b[0m \u001b[0;34m->\u001b[0m \u001b[0;32mNone\u001b[0m\u001b[0;34m:\u001b[0m\u001b[0;34m\u001b[0m\u001b[0;34m\u001b[0m\u001b[0m\n",
            "\u001b[0;32m/usr/local/lib/python3.11/dist-packages/pandas/io/parsers/readers.py\u001b[0m in \u001b[0;36m_make_engine\u001b[0;34m(self, f, engine)\u001b[0m\n\u001b[1;32m   1878\u001b[0m                 \u001b[0;32mif\u001b[0m \u001b[0;34m\"b\"\u001b[0m \u001b[0;32mnot\u001b[0m \u001b[0;32min\u001b[0m \u001b[0mmode\u001b[0m\u001b[0;34m:\u001b[0m\u001b[0;34m\u001b[0m\u001b[0;34m\u001b[0m\u001b[0m\n\u001b[1;32m   1879\u001b[0m                     \u001b[0mmode\u001b[0m \u001b[0;34m+=\u001b[0m \u001b[0;34m\"b\"\u001b[0m\u001b[0;34m\u001b[0m\u001b[0;34m\u001b[0m\u001b[0m\n\u001b[0;32m-> 1880\u001b[0;31m             self.handles = get_handle(\n\u001b[0m\u001b[1;32m   1881\u001b[0m                 \u001b[0mf\u001b[0m\u001b[0;34m,\u001b[0m\u001b[0;34m\u001b[0m\u001b[0;34m\u001b[0m\u001b[0m\n\u001b[1;32m   1882\u001b[0m                 \u001b[0mmode\u001b[0m\u001b[0;34m,\u001b[0m\u001b[0;34m\u001b[0m\u001b[0;34m\u001b[0m\u001b[0m\n",
            "\u001b[0;32m/usr/local/lib/python3.11/dist-packages/pandas/io/common.py\u001b[0m in \u001b[0;36mget_handle\u001b[0;34m(path_or_buf, mode, encoding, compression, memory_map, is_text, errors, storage_options)\u001b[0m\n\u001b[1;32m    871\u001b[0m         \u001b[0;32mif\u001b[0m \u001b[0mioargs\u001b[0m\u001b[0;34m.\u001b[0m\u001b[0mencoding\u001b[0m \u001b[0;32mand\u001b[0m \u001b[0;34m\"b\"\u001b[0m \u001b[0;32mnot\u001b[0m \u001b[0;32min\u001b[0m \u001b[0mioargs\u001b[0m\u001b[0;34m.\u001b[0m\u001b[0mmode\u001b[0m\u001b[0;34m:\u001b[0m\u001b[0;34m\u001b[0m\u001b[0;34m\u001b[0m\u001b[0m\n\u001b[1;32m    872\u001b[0m             \u001b[0;31m# Encoding\u001b[0m\u001b[0;34m\u001b[0m\u001b[0;34m\u001b[0m\u001b[0m\n\u001b[0;32m--> 873\u001b[0;31m             handle = open(\n\u001b[0m\u001b[1;32m    874\u001b[0m                 \u001b[0mhandle\u001b[0m\u001b[0;34m,\u001b[0m\u001b[0;34m\u001b[0m\u001b[0;34m\u001b[0m\u001b[0m\n\u001b[1;32m    875\u001b[0m                 \u001b[0mioargs\u001b[0m\u001b[0;34m.\u001b[0m\u001b[0mmode\u001b[0m\u001b[0;34m,\u001b[0m\u001b[0;34m\u001b[0m\u001b[0;34m\u001b[0m\u001b[0m\n",
            "\u001b[0;31mFileNotFoundError\u001b[0m: [Errno 2] No such file or directory: 'Final_Dataset.csv'"
          ]
        }
      ],
      "source": [
        "dataset = pd.read_csv(\"Final_Dataset.csv\",header=0)"
      ]
    },
    {
      "cell_type": "markdown",
      "metadata": {
        "id": "P5N08WyZidcF"
      },
      "source": [
        "### **SEPERATE THE LABEL FROM THE FEATURES**"
      ]
    },
    {
      "cell_type": "code",
      "execution_count": null,
      "metadata": {
        "id": "t9HX6FQCgb7T"
      },
      "outputs": [],
      "source": [
        "# input\n",
        "x  = dataset.iloc[:,[1]].values\n",
        "x1 = dataset.iloc[:,[3]].values\n",
        "x2 = dataset.iloc[:,[5]].values\n",
        "x3 = dataset.iloc[:,[7]].values\n",
        "x4 = dataset.iloc[:,[9]].values\n",
        "x5 = dataset.iloc[:,[11]].values\n",
        "x6 = dataset.iloc[:,[13]].values\n",
        "x7 = dataset.iloc[:,[15]].values\n",
        "x8 = dataset.iloc[:,[17]].values\n",
        "x9 = dataset.iloc[:,[19]].values\n",
        "# output\n",
        "y = dataset.iloc[:, 2].values\n",
        "y1= dataset.iloc[:, 4].values\n",
        "y2= dataset.iloc[:, 6].values\n",
        "y3= dataset.iloc[:, 8].values\n",
        "y4= dataset.iloc[:, 10].values\n",
        "y5= dataset.iloc[:, 12].values\n",
        "y6= dataset.iloc[:, 14].values\n",
        "y7= dataset.iloc[:, 16].values\n",
        "y8= dataset.iloc[:, 18].values\n",
        "y9= dataset.iloc[:, 20].values"
      ]
    },
    {
      "cell_type": "markdown",
      "metadata": {
        "id": "fOcOjiu_im0a"
      },
      "source": [
        "### **SPLIT THE DATASET IN 80% TRAIN AND 20% TEST RATIO**"
      ]
    },
    {
      "cell_type": "code",
      "execution_count": null,
      "metadata": {
        "id": "BjBVrmBhg2lc"
      },
      "outputs": [],
      "source": [
        "from sklearn.model_selection import train_test_split\n",
        "X_train, X_test, y_train, y_test = train_test_split(x, y, test_size = 0.20, random_state = 0)\n",
        "X1_train, X1_test, y1_train, y1_test = train_test_split(x1, y1, test_size = 0.20, random_state = 0)\n",
        "X2_train, X2_test, y2_train, y2_test = train_test_split(x2, y2, test_size = 0.20, random_state = 0)\n",
        "X3_train, X3_test, y3_train, y3_test = train_test_split(x3, y3, test_size = 0.20, random_state = 0)\n",
        "X4_train, X4_test, y4_train, y4_test = train_test_split(x4, y4, test_size = 0.20, random_state = 0)\n",
        "X5_train, X5_test, y5_train, y5_test = train_test_split(x5, y5, test_size = 0.20, random_state = 0)\n",
        "X6_train, X6_test, y6_train, y6_test = train_test_split(x6, y6, test_size = 0.20, random_state = 0)\n",
        "X7_train, X7_test, y7_train, y7_test = train_test_split(x7, y7, test_size = 0.20, random_state = 0)\n",
        "X8_train, X8_test, y8_train, y8_test = train_test_split(x8, y8, test_size = 0.20, random_state = 0)\n",
        "X9_train, X9_test, y9_train, y9_test = train_test_split(x9, y9, test_size = 0.20, random_state = 0)"
      ]
    },
    {
      "cell_type": "markdown",
      "metadata": {
        "id": "IWf2p9wijAjc"
      },
      "source": [
        "### **TRAIN THE MODEL/S**"
      ]
    },
    {
      "cell_type": "code",
      "execution_count": null,
      "metadata": {
        "id": "DwDPH1t7i2vi"
      },
      "outputs": [],
      "source": [
        "classifier  = LinearRegression()\n",
        "classifier.fit(X_train, y_train)\n",
        "classifier1  = LinearRegression()\n",
        "classifier1.fit(X1_train, y1_train)\n",
        "classifier2  = LinearRegression()\n",
        "classifier2.fit(X2_train, y2_train)\n",
        "classifier3  = LinearRegression()\n",
        "classifier3.fit(X3_train, y3_train)\n",
        "classifier4  = LinearRegression()\n",
        "classifier4.fit(X4_train, y4_train)\n",
        "classifier5  = LinearRegression()\n",
        "classifier5.fit(X5_train, y5_train)\n",
        "classifier6  = LinearRegression()\n",
        "classifier6.fit(X6_train, y6_train)\n",
        "classifier7  = LinearRegression()\n",
        "classifier7.fit(X7_train, y7_train)\n",
        "classifier8  = LinearRegression()\n",
        "classifier8.fit(X8_train, y8_train)\n",
        "classifier9  = LinearRegression()\n",
        "classifier9.fit(X9_train, y9_train)"
      ]
    },
    {
      "cell_type": "markdown",
      "metadata": {
        "id": "tKV2bGqtjMrC"
      },
      "source": [
        "**Training Score**"
      ]
    },
    {
      "cell_type": "code",
      "execution_count": null,
      "metadata": {
        "id": "UK7kkju5jQka"
      },
      "outputs": [],
      "source": [
        "train_score = classifier.score(X_train, y_train)\n",
        "print(\"DM:\",train_score)\n",
        "train1_score = classifier1.score(X1_train, y1_train)\n",
        "print(\"TC:\",train1_score)\n",
        "train2_score = classifier2.score(X2_train, y2_train)\n",
        "print(\"DL:\",train2_score)\n",
        "train3_score = classifier3.score(X3_train, y3_train)\n",
        "print(\"CO:\",train3_score)\n",
        "train4_score = classifier4.score(X4_train, y4_train)\n",
        "print(\"PDS:\",train4_score)\n",
        "train5_score = classifier5.score(X5_train, y5_train)\n",
        "print(\"ALGO:\",train5_score)\n",
        "train6_score = classifier6.score(X6_train, y6_train)\n",
        "print(\"CD:\",train6_score)\n",
        "train7_score = classifier7.score(X7_train, y7_train)\n",
        "print(\"OS:\",train7_score)\n",
        "train8_score = classifier8.score(X8_train, y8_train)\n",
        "print(\"DB:\",train8_score)\n",
        "train9_score = classifier9.score(X9_train, y9_train)\n",
        "print(\"CN:\",train9_score)"
      ]
    },
    {
      "cell_type": "markdown",
      "metadata": {
        "id": "wcgxUxx7GPUX"
      },
      "source": [
        "**Testing Score**"
      ]
    },
    {
      "cell_type": "code",
      "execution_count": null,
      "metadata": {
        "id": "vDpA7rmxGTBW"
      },
      "outputs": [],
      "source": [
        "test_score = classifier.score(X_test, y_test)\n",
        "print(\"DM:\",test_score)\n",
        "test1_score = classifier1.score(X1_test, y1_test)\n",
        "print(\"TC:\",test1_score)\n",
        "test2_score = classifier2.score(X2_test, y2_test)\n",
        "print(\"DL:\",test2_score)\n",
        "test3_score = classifier3.score(X3_test, y3_test)\n",
        "print(\"CO:\",test3_score)\n",
        "test4_score = classifier4.score(X4_test, y4_test)\n",
        "print(\"PDS:\",test4_score)\n",
        "test5_score = classifier5.score(X5_test, y5_test)\n",
        "print(\"ALGO:\",test5_score)\n",
        "test6_score = classifier6.score(X6_test, y6_test)\n",
        "print(\"CD:\",test6_score)\n",
        "test7_score = classifier7.score(X7_test, y7_test)\n",
        "print(\"OS:\",test7_score)\n",
        "test8_score = classifier8.score(X8_test, y8_test)\n",
        "print(\"DB:\",test8_score)\n",
        "test9_score = classifier9.score(X9_test, y9_test)\n",
        "print(\"CN:\",test9_score)"
      ]
    },
    {
      "cell_type": "markdown",
      "metadata": {
        "id": "Ezy51av5z4Y0"
      },
      "source": [
        "### **OUTSAMPLING_MANUAL DATA INPUT**"
      ]
    },
    {
      "cell_type": "code",
      "execution_count": null,
      "metadata": {
        "id": "RUQ2skZYz-2E"
      },
      "outputs": [],
      "source": [
        "print(\"Enter your B.Tech marks of the respective subjects:-\")\n",
        "print(\"Discrete & Engineering Mathematics : \",end=\"\")\n",
        "a=int(input())\n",
        "print(\"Theory Of Computation : \",end=\"\")\n",
        "b=int(input())\n",
        "print(\"Digital Logic : \",end=\"\")\n",
        "c=int(input())\n",
        "print(\"Computer Organization and Architecture\t: \",end=\"\")\n",
        "d=int(input())\n",
        "print(\"Programming and Data Structures : \",end=\"\")\n",
        "e=int(input())\n",
        "print(\"Algorithms : \",end=\"\")\n",
        "f=int(input())\n",
        "print(\"Compiler Design : \",end=\"\")\n",
        "g=int(input())\n",
        "print(\"Operating System : \",end=\"\")\n",
        "h=int(input())\n",
        "print(\"Databases : \",end=\"\")\n",
        "i=int(input())\n",
        "print(\"Computer Networks : \",end=\"\")\n",
        "j=int(input())\n",
        "print(\"How much are you expecting in aptitute out of 10 ? \", end=\"\")\n",
        "apt=int(input())\n",
        "\n",
        "ag=classifier.predict([[a/100]])[0]\n",
        "bg=classifier1.predict([[b/100]])[0]\n",
        "cg=classifier2.predict([[c/100]])[0]\n",
        "dg=classifier3.predict([[d/100]])[0]\n",
        "eg=classifier4.predict([[e/100]])[0]\n",
        "fg=classifier5.predict([[f/100]])[0]\n",
        "gg=classifier6.predict([[g/100]])[0]\n",
        "hg=classifier7.predict([[h/100]])[0]\n",
        "ig=classifier8.predict([[i/100]])[0]\n",
        "jg=classifier9.predict([[j/100]])[0]\n",
        "\n",
        "Final_Gate_Score= (ag+bg+cg+dg+eg+fg+gg+hg+ig+jg)*10+apt\n",
        "\n",
        "print(\"Expected Gate Score is \",Final_Gate_Score)\n",
        "\n",
        "# Print the result obtained for the test data\n",
        "if Final_Gate_Score>=35:\n",
        "  msg=\"Expected to clear Gate at first attempt wrt 2023 cutoff\"\n",
        "else:\n",
        "  msg=\"Expected will not clear Gate at first attempt wrt 2023 cutoff\"\n",
        "print('Outcome : '+msg)\n"
      ]
    },
    {
      "cell_type": "markdown",
      "metadata": {
        "id": "Ow_Kmez3dV9x"
      },
      "source": [
        "### **HEAT MAP: Co-Relation Matrix**"
      ]
    },
    {
      "cell_type": "code",
      "execution_count": null,
      "metadata": {
        "id": "lfOt6xDUdZxf"
      },
      "outputs": [],
      "source": [
        "import numpy as np\n",
        "import seaborn as sns\n",
        "import matplotlib.pyplot as plt\n",
        "import pandas as pd\n",
        "\n",
        "data = pd.read_csv(\"Final_Dataset.csv\")\n",
        "\n",
        "fig, ax = plt.subplots(figsize=(10,6))\n",
        "sns.heatmap(data.corr(),  cmap='YlGnBu', annot=True)"
      ]
    },
    {
      "cell_type": "markdown",
      "source": [
        "### **Decision Tree**"
      ],
      "metadata": {
        "id": "wO9FsY0Wt8W5"
      }
    },
    {
      "cell_type": "code",
      "source": [
        "dt  = DecisionTreeRegressor()\n",
        "dt.fit(X_train, y_train)\n",
        "dt1  = DecisionTreeRegressor()\n",
        "dt1.fit(X1_train, y1_train)\n",
        "dt2  = DecisionTreeRegressor()\n",
        "dt2.fit(X2_train, y2_train)\n",
        "dt3  = DecisionTreeRegressor()\n",
        "dt3.fit(X3_train, y3_train)\n",
        "dt4  = DecisionTreeRegressor()\n",
        "dt4.fit(X4_train, y4_train)\n",
        "dt5  = DecisionTreeRegressor()\n",
        "dt5.fit(X5_train, y5_train)\n",
        "dt6  = DecisionTreeRegressor()\n",
        "dt6.fit(X6_train, y6_train)\n",
        "dt7  = DecisionTreeRegressor()\n",
        "dt7.fit(X7_train, y7_train)\n",
        "dt8  = DecisionTreeRegressor()\n",
        "dt8.fit(X8_train, y8_train)\n",
        "dt9  = DecisionTreeRegressor()\n",
        "dt9.fit(X9_train, y9_train)"
      ],
      "metadata": {
        "id": "Iu0S-l6bxuVy"
      },
      "execution_count": null,
      "outputs": []
    },
    {
      "cell_type": "code",
      "source": [
        "test_score = dt.score(X_test, y_test)\n",
        "print(\"DM:\",test_score)\n",
        "test1_score = dt1.score(X1_test, y1_test)\n",
        "print(\"TC:\",test1_score)\n",
        "test2_score = dt2.score(X2_test, y2_test)\n",
        "print(\"DL:\",test2_score)\n",
        "test3_score = dt3.score(X3_test, y3_test)\n",
        "print(\"CO:\",test3_score)\n",
        "test4_score = dt4.score(X4_test, y4_test)\n",
        "print(\"PDS:\",test4_score)\n",
        "test5_score = dt5.score(X5_test, y5_test)\n",
        "print(\"ALGO:\",test5_score)\n",
        "test6_score = dt6.score(X6_test, y6_test)\n",
        "print(\"CD:\",test6_score)\n",
        "test7_score = dt7.score(X7_test, y7_test)\n",
        "print(\"OS:\",test7_score)\n",
        "test8_score = dt8.score(X8_test, y8_test)\n",
        "print(\"DB:\",test8_score)\n",
        "test9_score = dt9.score(X9_test, y9_test)\n",
        "print(\"CN:\",test9_score)"
      ],
      "metadata": {
        "id": "6HaSsVI6t7rq"
      },
      "execution_count": null,
      "outputs": []
    }
  ],
  "metadata": {
    "colab": {
      "provenance": [],
      "include_colab_link": true
    },
    "gpuClass": "standard",
    "kernelspec": {
      "display_name": "Python 3",
      "name": "python3"
    },
    "language_info": {
      "name": "python"
    }
  },
  "nbformat": 4,
  "nbformat_minor": 0
}